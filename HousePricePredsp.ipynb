{
  "nbformat": 4,
  "nbformat_minor": 0,
  "metadata": {
    "colab": {
      "name": "HousePricePredsp.ipynb",
      "provenance": [],
      "collapsed_sections": []
    },
    "kernelspec": {
      "name": "python3",
      "display_name": "Python 3"
    },
    "language_info": {
      "name": "python"
    }
  },
  "cells": [
    {
      "cell_type": "code",
      "metadata": {
        "id": "M5GVVV1oDvvI"
      },
      "source": [
        "# This Python 3 environment comes with many helpful analytics libraries installed\n",
        "# It is defined by the kaggle/python Docker image: https://github.com/kaggle/docker-python\n",
        "# For example, here's several helpful packages to load\n",
        "\n",
        "import numpy as np # linear algebra\n",
        "import pandas as pd # data processing, CSV file I/O (e.g. pd.read_csv)\n",
        "\n",
        "# Input data files are available in the read-only \"../input/\" directory\n",
        "# For example, running this (by clicking run or pressing Shift+Enter) will list all files under the input directory\n",
        "\n",
        "import os\n",
        "for dirname, _, filenames in os.walk('/kaggle/input'):\n",
        "    for filename in filenames:\n",
        "        print(os.path.join(dirname, filename))\n",
        "\n",
        "# You can write up to 20GB to the current directory (/kaggle/working/) that gets preserved as output when you create a version using \"Save &\n",
        " & Run All\" \n",
        "# You can also write temporary files to /kaggle/temp/, but they won't be saved outside of the current session"
      ],
      "execution_count": null,
      "outputs": []
    },
    {
      "cell_type": "code",
      "metadata": {
        "colab": {
          "base_uri": "https://localhost:8080/"
        },
        "id": "vUmLZGOnEDUb",
        "outputId": "391c25d2-c4da-42c7-c353-ff3514a412f5"
      },
      "source": [
        "!pip install pyspark"
      ],
      "execution_count": 1,
      "outputs": [
        {
          "output_type": "stream",
          "name": "stdout",
          "text": [
            "Collecting pyspark\n",
            "  Downloading pyspark-3.1.2.tar.gz (212.4 MB)\n",
            "\u001b[K     |████████████████████████████████| 212.4 MB 71 kB/s \n",
            "\u001b[?25hCollecting py4j==0.10.9\n",
            "  Downloading py4j-0.10.9-py2.py3-none-any.whl (198 kB)\n",
            "\u001b[K     |████████████████████████████████| 198 kB 56.4 MB/s \n",
            "\u001b[?25hBuilding wheels for collected packages: pyspark\n",
            "  Building wheel for pyspark (setup.py) ... \u001b[?25l\u001b[?25hdone\n",
            "  Created wheel for pyspark: filename=pyspark-3.1.2-py2.py3-none-any.whl size=212880768 sha256=2faf62952800daf62d500129042317db3d8be5b1f6f3958f97c41124cdaa21c7\n",
            "  Stored in directory: /root/.cache/pip/wheels/a5/0a/c1/9561f6fecb759579a7d863dcd846daaa95f598744e71b02c77\n",
            "Successfully built pyspark\n",
            "Installing collected packages: py4j, pyspark\n",
            "Successfully installed py4j-0.10.9 pyspark-3.1.2\n"
          ]
        }
      ]
    },
    {
      "cell_type": "code",
      "metadata": {
        "id": "44Id8pg1Eel6"
      },
      "source": [
        "from pyspark import SparkConf, SparkContext\n",
        "from pyspark.sql import SparkSession, SQLContext\n",
        "\n",
        "from pyspark.sql.types import *\n",
        "import pyspark.sql.functions as F\n",
        "from pyspark.sql.functions import udf, col\n",
        "\n",
        "from pyspark.ml.regression import LinearRegression\n",
        "from pyspark.mllib.evaluation import RegressionMetrics\n",
        "\n",
        "from pyspark.ml.tuning import ParamGridBuilder, CrossValidator, CrossValidatorModel\n",
        "from pyspark.ml.feature import VectorAssembler, StandardScaler\n",
        "from pyspark.ml.evaluation import RegressionEvaluator"
      ],
      "execution_count": 2,
      "outputs": []
    },
    {
      "cell_type": "code",
      "metadata": {
        "id": "2VPpTS7NEgiF"
      },
      "source": [
        "import matplotlib.pyplot as plt\n",
        "import seaborn as sns\n",
        "\n",
        "from scipy import stats\n",
        "from scipy.stats import norm, skew "
      ],
      "execution_count": 3,
      "outputs": []
    },
    {
      "cell_type": "code",
      "metadata": {
        "id": "hfqywX_-EkaY"
      },
      "source": [
        "spark_session = SparkSession.builder.master(\"local[2]\").appName(\"HousingRegression\").getOrCreate()"
      ],
      "execution_count": 4,
      "outputs": []
    },
    {
      "cell_type": "code",
      "metadata": {
        "id": "Al_C1tbdEoR0"
      },
      "source": [
        "spark_context = spark_session.sparkContext"
      ],
      "execution_count": 5,
      "outputs": []
    },
    {
      "cell_type": "code",
      "metadata": {
        "id": "p76LiRhwEseW"
      },
      "source": [
        "spark_sql_context = SQLContext(spark_context)"
      ],
      "execution_count": 6,
      "outputs": []
    },
    {
      "cell_type": "markdown",
      "metadata": {
        "id": "pSVpLDHjEzrX"
      },
      "source": [
        "2. Loading data & EDA"
      ]
    },
    {
      "cell_type": "code",
      "metadata": {
        "id": "lMNDLw1JE9Og"
      },
      "source": [
        "TRAIN_INPUT = '/content/sample_data/train.csv'\n",
        "TEST_INPUT = '/content/sample_data/test.csv'"
      ],
      "execution_count": 7,
      "outputs": []
    },
    {
      "cell_type": "code",
      "metadata": {
        "id": "3Z_ApdNpFI8d"
      },
      "source": [
        "import pandas as pd \n",
        "pd_train = pd.read_csv(TRAIN_INPUT)\n",
        "pd_test = pd.read_csv(TEST_INPUT)\n",
        "na_cols = pd_train.columns[pd_train.isna().any()].tolist()"
      ],
      "execution_count": 9,
      "outputs": []
    },
    {
      "cell_type": "code",
      "metadata": {
        "colab": {
          "base_uri": "https://localhost:8080/",
          "height": 295
        },
        "id": "1jyC9ijbFMwn",
        "outputId": "c6664533-b083-47a6-e6d6-0904426abce2"
      },
      "source": [
        "# Let's Explore how SalePrice is distributed against normal theoretical quantiles\n",
        "fig = plt.figure()\n",
        "ax = fig.add_subplot()\n",
        "res = stats.probplot(pd_train['SalePrice'], plot=plt)"
      ],
      "execution_count": 10,
      "outputs": [
        {
          "output_type": "display_data",
          "data": {
            "image/png": "[encoded data removed]",
            "text/plain": [
              "<Figure size 432x288 with 1 Axes>"
            ]
          },
          "metadata": {
            "needs_background": "light"
          }
        }
      ]
    },
    {
      "cell_type": "code",
      "metadata": {
        "colab": {
          "base_uri": "https://localhost:8080/",
          "height": 379
        },
        "id": "rd9S3SDNFQ6L",
        "outputId": "b4f3ce57-7e57-4b99-a1c3-cfa06624d316"
      },
      "source": [
        "sns.distplot(pd_train['SalePrice'] , fit=norm);\n",
        "\n",
        "# parameters\n",
        "(mu, sigma) = norm.fit(pd_train['SalePrice'])\n",
        "\n",
        "plt.suptitle('Normal distribution with mu = {:.2f} and sigma = {:.2f}'.format(mu, sigma))\n",
        "plt.ylabel('Frequency')\n",
        "plt.title('SalePrice distribution')\n",
        "\n",
        "#ax = plt.axes()"
      ],
      "execution_count": 11,
      "outputs": [
        {
          "output_type": "stream",
          "name": "stderr",
          "text": [
            "/usr/local/lib/python3.7/dist-packages/seaborn/distributions.py:2557: FutureWarning: `distplot` is a deprecated function and will be removed in a future version. Please adapt your code to use either `displot` (a figure-level function with similar flexibility) or `histplot` (an axes-level function for histograms).\n",
            "  warnings.warn(msg, FutureWarning)\n"
          ]
        },
        {
          "output_type": "execute_result",
          "data": {
            "text/plain": [
              "Text(0.5, 1.0, 'SalePrice distribution')"
            ]
          },
          "metadata": {},
          "execution_count": 11
        },
        {
          "output_type": "display_data",
          "data": {
            "image/png": "[encoded data removed]",
            "text/plain": [
              "<Figure size 432x288 with 1 Axes>"
            ]
          },
          "metadata": {
            "needs_background": "light"
          }
        }
      ]
    },
    {
      "cell_type": "code",
      "metadata": {
        "id": "-pHSH8itFVkt"
      },
      "source": [
        "corr = pd_train.corr()"
      ],
      "execution_count": 12,
      "outputs": []
    },
    {
      "cell_type": "code",
      "metadata": {
        "colab": {
          "base_uri": "https://localhost:8080/",
          "height": 838
        },
        "id": "Bir09B45FbbU",
        "outputId": "fd3116be-42ad-41b2-f646-12a0dafa4259"
      },
      "source": [
        "corr[['SalePrice']].sort_values(by='SalePrice',ascending=False).style.background_gradient(cmap='viridis', axis=None)"
      ],
      "execution_count": 13,
      "outputs": [
        {
          "output_type": "execute_result",
          "data": {
            "text/html": [
              "<style  type=\"text/css\" >\n",
              "#T_1146686e_1164_11ec_bdb8_0242ac1c0002row0_col0{\n",
              "            background-color:  #fde725;\n",
              "            color:  #000000;\n",
              "        }#T_1146686e_1164_11ec_bdb8_0242ac1c0002row1_col0{\n",
              "            background-color:  #84d44b;\n",
              "            color:  #000000;\n",
              "        }#T_1146686e_1164_11ec_bdb8_0242ac1c0002row2_col0{\n",
              "            background-color:  #5ac864;\n",
              "            color:  #000000;\n",
              "        }#T_1146686e_1164_11ec_bdb8_0242ac1c0002row3_col0{\n",
              "            background-color:  #3bbb75;\n",
              "            color:  #000000;\n",
              "        }#T_1146686e_1164_11ec_bdb8_0242ac1c0002row4_col0{\n",
              "            background-color:  #37b878;\n",
              "            color:  #000000;\n",
              "        }#T_1146686e_1164_11ec_bdb8_0242ac1c0002row5_col0{\n",
              "            background-color:  #32b67a;\n",
              "            color:  #000000;\n",
              "        }#T_1146686e_1164_11ec_bdb8_0242ac1c0002row6_col0{\n",
              "            background-color:  #31b57b;\n",
              "            color:  #000000;\n",
              "        }#T_1146686e_1164_11ec_bdb8_0242ac1c0002row7_col0{\n",
              "            background-color:  #25ab82;\n",
              "            color:  #000000;\n",
              "        }#T_1146686e_1164_11ec_bdb8_0242ac1c0002row8_col0{\n",
              "            background-color:  #21a585;\n",
              "            color:  #000000;\n",
              "        }#T_1146686e_1164_11ec_bdb8_0242ac1c0002row9_col0{\n",
              "            background-color:  #20a386;\n",
              "            color:  #000000;\n",
              "        }#T_1146686e_1164_11ec_bdb8_0242ac1c0002row10_col0{\n",
              "            background-color:  #1fa088;\n",
              "            color:  #000000;\n",
              "        }#T_1146686e_1164_11ec_bdb8_0242ac1c0002row11_col0{\n",
              "            background-color:  #1e9c89;\n",
              "            color:  #000000;\n",
              "        }#T_1146686e_1164_11ec_bdb8_0242ac1c0002row12_col0{\n",
              "            background-color:  #1f9a8a;\n",
              "            color:  #000000;\n",
              "        }#T_1146686e_1164_11ec_bdb8_0242ac1c0002row13_col0{\n",
              "            background-color:  #1f978b;\n",
              "            color:  #000000;\n",
              "        }#T_1146686e_1164_11ec_bdb8_0242ac1c0002row14_col0{\n",
              "            background-color:  #24868e;\n",
              "            color:  #000000;\n",
              "        }#T_1146686e_1164_11ec_bdb8_0242ac1c0002row15_col0{\n",
              "            background-color:  #277f8e;\n",
              "            color:  #000000;\n",
              "        }#T_1146686e_1164_11ec_bdb8_0242ac1c0002row16_col0{\n",
              "            background-color:  #29798e;\n",
              "            color:  #000000;\n",
              "        }#T_1146686e_1164_11ec_bdb8_0242ac1c0002row17_col0{\n",
              "            background-color:  #2a788e;\n",
              "            color:  #000000;\n",
              "        }#T_1146686e_1164_11ec_bdb8_0242ac1c0002row18_col0{\n",
              "            background-color:  #2a778e;\n",
              "            color:  #000000;\n",
              "        }#T_1146686e_1164_11ec_bdb8_0242ac1c0002row19_col0{\n",
              "            background-color:  #2d718e;\n",
              "            color:  #f1f1f1;\n",
              "        }#T_1146686e_1164_11ec_bdb8_0242ac1c0002row20_col0{\n",
              "            background-color:  #2e6d8e;\n",
              "            color:  #f1f1f1;\n",
              "        }#T_1146686e_1164_11ec_bdb8_0242ac1c0002row21_col0{\n",
              "            background-color:  #32648e;\n",
              "            color:  #f1f1f1;\n",
              "        }#T_1146686e_1164_11ec_bdb8_0242ac1c0002row22_col0{\n",
              "            background-color:  #34618d;\n",
              "            color:  #f1f1f1;\n",
              "        }#T_1146686e_1164_11ec_bdb8_0242ac1c0002row23_col0{\n",
              "            background-color:  #39568c;\n",
              "            color:  #f1f1f1;\n",
              "        }#T_1146686e_1164_11ec_bdb8_0242ac1c0002row24_col0{\n",
              "            background-color:  #3f4889;\n",
              "            color:  #f1f1f1;\n",
              "        }#T_1146686e_1164_11ec_bdb8_0242ac1c0002row25_col0{\n",
              "            background-color:  #414487;\n",
              "            color:  #f1f1f1;\n",
              "        }#T_1146686e_1164_11ec_bdb8_0242ac1c0002row26_col0{\n",
              "            background-color:  #453882;\n",
              "            color:  #f1f1f1;\n",
              "        }#T_1146686e_1164_11ec_bdb8_0242ac1c0002row27_col0{\n",
              "            background-color:  #453781;\n",
              "            color:  #f1f1f1;\n",
              "        }#T_1146686e_1164_11ec_bdb8_0242ac1c0002row28_col0{\n",
              "            background-color:  #482878;\n",
              "            color:  #f1f1f1;\n",
              "        }#T_1146686e_1164_11ec_bdb8_0242ac1c0002row29_col0{\n",
              "            background-color:  #482576;\n",
              "            color:  #f1f1f1;\n",
              "        }#T_1146686e_1164_11ec_bdb8_0242ac1c0002row30_col0,#T_1146686e_1164_11ec_bdb8_0242ac1c0002row31_col0{\n",
              "            background-color:  #482475;\n",
              "            color:  #f1f1f1;\n",
              "        }#T_1146686e_1164_11ec_bdb8_0242ac1c0002row32_col0,#T_1146686e_1164_11ec_bdb8_0242ac1c0002row33_col0{\n",
              "            background-color:  #482374;\n",
              "            color:  #f1f1f1;\n",
              "        }#T_1146686e_1164_11ec_bdb8_0242ac1c0002row34_col0{\n",
              "            background-color:  #481467;\n",
              "            color:  #f1f1f1;\n",
              "        }#T_1146686e_1164_11ec_bdb8_0242ac1c0002row35_col0{\n",
              "            background-color:  #471164;\n",
              "            color:  #f1f1f1;\n",
              "        }#T_1146686e_1164_11ec_bdb8_0242ac1c0002row36_col0{\n",
              "            background-color:  #440256;\n",
              "            color:  #f1f1f1;\n",
              "        }#T_1146686e_1164_11ec_bdb8_0242ac1c0002row37_col0{\n",
              "            background-color:  #440154;\n",
              "            color:  #f1f1f1;\n",
              "        }</style><table id=\"T_1146686e_1164_11ec_bdb8_0242ac1c0002\" ><thead>    <tr>        <th class=\"blank level0\" ></th>        <th class=\"col_heading level0 col0\" >SalePrice</th>    </tr></thead><tbody>\n",
              "                <tr>\n",
              "                        <th id=\"T_1146686e_1164_11ec_bdb8_0242ac1c0002level0_row0\" class=\"row_heading level0 row0\" >SalePrice</th>\n",
              "                        <td id=\"T_1146686e_1164_11ec_bdb8_0242ac1c0002row0_col0\" class=\"data row0 col0\" >1.000000</td>\n",
              "            </tr>\n",
              "            <tr>\n",
              "                        <th id=\"T_1146686e_1164_11ec_bdb8_0242ac1c0002level0_row1\" class=\"row_heading level0 row1\" >OverallQual</th>\n",
              "                        <td id=\"T_1146686e_1164_11ec_bdb8_0242ac1c0002row1_col0\" class=\"data row1 col0\" >0.790982</td>\n",
              "            </tr>\n",
              "            <tr>\n",
              "                        <th id=\"T_1146686e_1164_11ec_bdb8_0242ac1c0002level0_row2\" class=\"row_heading level0 row2\" >GrLivArea</th>\n",
              "                        <td id=\"T_1146686e_1164_11ec_bdb8_0242ac1c0002row2_col0\" class=\"data row2 col0\" >0.708624</td>\n",
              "            </tr>\n",
              "            <tr>\n",
              "                        <th id=\"T_1146686e_1164_11ec_bdb8_0242ac1c0002level0_row3\" class=\"row_heading level0 row3\" >GarageCars</th>\n",
              "                        <td id=\"T_1146686e_1164_11ec_bdb8_0242ac1c0002row3_col0\" class=\"data row3 col0\" >0.640409</td>\n",
              "            </tr>\n",
              "            <tr>\n",
              "                        <th id=\"T_1146686e_1164_11ec_bdb8_0242ac1c0002level0_row4\" class=\"row_heading level0 row4\" >GarageArea</th>\n",
              "                        <td id=\"T_1146686e_1164_11ec_bdb8_0242ac1c0002row4_col0\" class=\"data row4 col0\" >0.623431</td>\n",
              "            </tr>\n",
              "            <tr>\n",
              "                        <th id=\"T_1146686e_1164_11ec_bdb8_0242ac1c0002level0_row5\" class=\"row_heading level0 row5\" >TotalBsmtSF</th>\n",
              "                        <td id=\"T_1146686e_1164_11ec_bdb8_0242ac1c0002row5_col0\" class=\"data row5 col0\" >0.613581</td>\n",
              "            </tr>\n",
              "            <tr>\n",
              "                        <th id=\"T_1146686e_1164_11ec_bdb8_0242ac1c0002level0_row6\" class=\"row_heading level0 row6\" >1stFlrSF</th>\n",
              "                        <td id=\"T_1146686e_1164_11ec_bdb8_0242ac1c0002row6_col0\" class=\"data row6 col0\" >0.605852</td>\n",
              "            </tr>\n",
              "            <tr>\n",
              "                        <th id=\"T_1146686e_1164_11ec_bdb8_0242ac1c0002level0_row7\" class=\"row_heading level0 row7\" >FullBath</th>\n",
              "                        <td id=\"T_1146686e_1164_11ec_bdb8_0242ac1c0002row7_col0\" class=\"data row7 col0\" >0.560664</td>\n",
              "            </tr>\n",
              "            <tr>\n",
              "                        <th id=\"T_1146686e_1164_11ec_bdb8_0242ac1c0002level0_row8\" class=\"row_heading level0 row8\" >TotRmsAbvGrd</th>\n",
              "                        <td id=\"T_1146686e_1164_11ec_bdb8_0242ac1c0002row8_col0\" class=\"data row8 col0\" >0.533723</td>\n",
              "            </tr>\n",
              "            <tr>\n",
              "                        <th id=\"T_1146686e_1164_11ec_bdb8_0242ac1c0002level0_row9\" class=\"row_heading level0 row9\" >YearBuilt</th>\n",
              "                        <td id=\"T_1146686e_1164_11ec_bdb8_0242ac1c0002row9_col0\" class=\"data row9 col0\" >0.522897</td>\n",
              "            </tr>\n",
              "            <tr>\n",
              "                        <th id=\"T_1146686e_1164_11ec_bdb8_0242ac1c0002level0_row10\" class=\"row_heading level0 row10\" >YearRemodAdd</th>\n",
              "                        <td id=\"T_1146686e_1164_11ec_bdb8_0242ac1c0002row10_col0\" class=\"data row10 col0\" >0.507101</td>\n",
              "            </tr>\n",
              "            <tr>\n",
              "                        <th id=\"T_1146686e_1164_11ec_bdb8_0242ac1c0002level0_row11\" class=\"row_heading level0 row11\" >GarageYrBlt</th>\n",
              "                        <td id=\"T_1146686e_1164_11ec_bdb8_0242ac1c0002row11_col0\" class=\"data row11 col0\" >0.486362</td>\n",
              "            </tr>\n",
              "            <tr>\n",
              "                        <th id=\"T_1146686e_1164_11ec_bdb8_0242ac1c0002level0_row12\" class=\"row_heading level0 row12\" >MasVnrArea</th>\n",
              "                        <td id=\"T_1146686e_1164_11ec_bdb8_0242ac1c0002row12_col0\" class=\"data row12 col0\" >0.477493</td>\n",
              "            </tr>\n",
              "            <tr>\n",
              "                        <th id=\"T_1146686e_1164_11ec_bdb8_0242ac1c0002level0_row13\" class=\"row_heading level0 row13\" >Fireplaces</th>\n",
              "                        <td id=\"T_1146686e_1164_11ec_bdb8_0242ac1c0002row13_col0\" class=\"data row13 col0\" >0.466929</td>\n",
              "            </tr>\n",
              "            <tr>\n",
              "                        <th id=\"T_1146686e_1164_11ec_bdb8_0242ac1c0002level0_row14\" class=\"row_heading level0 row14\" >BsmtFinSF1</th>\n",
              "                        <td id=\"T_1146686e_1164_11ec_bdb8_0242ac1c0002row14_col0\" class=\"data row14 col0\" >0.386420</td>\n",
              "            </tr>\n",
              "            <tr>\n",
              "                        <th id=\"T_1146686e_1164_11ec_bdb8_0242ac1c0002level0_row15\" class=\"row_heading level0 row15\" >LotFrontage</th>\n",
              "                        <td id=\"T_1146686e_1164_11ec_bdb8_0242ac1c0002row15_col0\" class=\"data row15 col0\" >0.351799</td>\n",
              "            </tr>\n",
              "            <tr>\n",
              "                        <th id=\"T_1146686e_1164_11ec_bdb8_0242ac1c0002level0_row16\" class=\"row_heading level0 row16\" >WoodDeckSF</th>\n",
              "                        <td id=\"T_1146686e_1164_11ec_bdb8_0242ac1c0002row16_col0\" class=\"data row16 col0\" >0.324413</td>\n",
              "            </tr>\n",
              "            <tr>\n",
              "                        <th id=\"T_1146686e_1164_11ec_bdb8_0242ac1c0002level0_row17\" class=\"row_heading level0 row17\" >2ndFlrSF</th>\n",
              "                        <td id=\"T_1146686e_1164_11ec_bdb8_0242ac1c0002row17_col0\" class=\"data row17 col0\" >0.319334</td>\n",
              "            </tr>\n",
              "            <tr>\n",
              "                        <th id=\"T_1146686e_1164_11ec_bdb8_0242ac1c0002level0_row18\" class=\"row_heading level0 row18\" >OpenPorchSF</th>\n",
              "                        <td id=\"T_1146686e_1164_11ec_bdb8_0242ac1c0002row18_col0\" class=\"data row18 col0\" >0.315856</td>\n",
              "            </tr>\n",
              "            <tr>\n",
              "                        <th id=\"T_1146686e_1164_11ec_bdb8_0242ac1c0002level0_row19\" class=\"row_heading level0 row19\" >HalfBath</th>\n",
              "                        <td id=\"T_1146686e_1164_11ec_bdb8_0242ac1c0002row19_col0\" class=\"data row19 col0\" >0.284108</td>\n",
              "            </tr>\n",
              "            <tr>\n",
              "                        <th id=\"T_1146686e_1164_11ec_bdb8_0242ac1c0002level0_row20\" class=\"row_heading level0 row20\" >LotArea</th>\n",
              "                        <td id=\"T_1146686e_1164_11ec_bdb8_0242ac1c0002row20_col0\" class=\"data row20 col0\" >0.263843</td>\n",
              "            </tr>\n",
              "            <tr>\n",
              "                        <th id=\"T_1146686e_1164_11ec_bdb8_0242ac1c0002level0_row21\" class=\"row_heading level0 row21\" >BsmtFullBath</th>\n",
              "                        <td id=\"T_1146686e_1164_11ec_bdb8_0242ac1c0002row21_col0\" class=\"data row21 col0\" >0.227122</td>\n",
              "            </tr>\n",
              "            <tr>\n",
              "                        <th id=\"T_1146686e_1164_11ec_bdb8_0242ac1c0002level0_row22\" class=\"row_heading level0 row22\" >BsmtUnfSF</th>\n",
              "                        <td id=\"T_1146686e_1164_11ec_bdb8_0242ac1c0002row22_col0\" class=\"data row22 col0\" >0.214479</td>\n",
              "            </tr>\n",
              "            <tr>\n",
              "                        <th id=\"T_1146686e_1164_11ec_bdb8_0242ac1c0002level0_row23\" class=\"row_heading level0 row23\" >BedroomAbvGr</th>\n",
              "                        <td id=\"T_1146686e_1164_11ec_bdb8_0242ac1c0002row23_col0\" class=\"data row23 col0\" >0.168213</td>\n",
              "            </tr>\n",
              "            <tr>\n",
              "                        <th id=\"T_1146686e_1164_11ec_bdb8_0242ac1c0002level0_row24\" class=\"row_heading level0 row24\" >ScreenPorch</th>\n",
              "                        <td id=\"T_1146686e_1164_11ec_bdb8_0242ac1c0002row24_col0\" class=\"data row24 col0\" >0.111447</td>\n",
              "            </tr>\n",
              "            <tr>\n",
              "                        <th id=\"T_1146686e_1164_11ec_bdb8_0242ac1c0002level0_row25\" class=\"row_heading level0 row25\" >PoolArea</th>\n",
              "                        <td id=\"T_1146686e_1164_11ec_bdb8_0242ac1c0002row25_col0\" class=\"data row25 col0\" >0.092404</td>\n",
              "            </tr>\n",
              "            <tr>\n",
              "                        <th id=\"T_1146686e_1164_11ec_bdb8_0242ac1c0002level0_row26\" class=\"row_heading level0 row26\" >MoSold</th>\n",
              "                        <td id=\"T_1146686e_1164_11ec_bdb8_0242ac1c0002row26_col0\" class=\"data row26 col0\" >0.046432</td>\n",
              "            </tr>\n",
              "            <tr>\n",
              "                        <th id=\"T_1146686e_1164_11ec_bdb8_0242ac1c0002level0_row27\" class=\"row_heading level0 row27\" >3SsnPorch</th>\n",
              "                        <td id=\"T_1146686e_1164_11ec_bdb8_0242ac1c0002row27_col0\" class=\"data row27 col0\" >0.044584</td>\n",
              "            </tr>\n",
              "            <tr>\n",
              "                        <th id=\"T_1146686e_1164_11ec_bdb8_0242ac1c0002level0_row28\" class=\"row_heading level0 row28\" >BsmtFinSF2</th>\n",
              "                        <td id=\"T_1146686e_1164_11ec_bdb8_0242ac1c0002row28_col0\" class=\"data row28 col0\" >-0.011378</td>\n",
              "            </tr>\n",
              "            <tr>\n",
              "                        <th id=\"T_1146686e_1164_11ec_bdb8_0242ac1c0002level0_row29\" class=\"row_heading level0 row29\" >BsmtHalfBath</th>\n",
              "                        <td id=\"T_1146686e_1164_11ec_bdb8_0242ac1c0002row29_col0\" class=\"data row29 col0\" >-0.016844</td>\n",
              "            </tr>\n",
              "            <tr>\n",
              "                        <th id=\"T_1146686e_1164_11ec_bdb8_0242ac1c0002level0_row30\" class=\"row_heading level0 row30\" >MiscVal</th>\n",
              "                        <td id=\"T_1146686e_1164_11ec_bdb8_0242ac1c0002row30_col0\" class=\"data row30 col0\" >-0.021190</td>\n",
              "            </tr>\n",
              "            <tr>\n",
              "                        <th id=\"T_1146686e_1164_11ec_bdb8_0242ac1c0002level0_row31\" class=\"row_heading level0 row31\" >Id</th>\n",
              "                        <td id=\"T_1146686e_1164_11ec_bdb8_0242ac1c0002row31_col0\" class=\"data row31 col0\" >-0.021917</td>\n",
              "            </tr>\n",
              "            <tr>\n",
              "                        <th id=\"T_1146686e_1164_11ec_bdb8_0242ac1c0002level0_row32\" class=\"row_heading level0 row32\" >LowQualFinSF</th>\n",
              "                        <td id=\"T_1146686e_1164_11ec_bdb8_0242ac1c0002row32_col0\" class=\"data row32 col0\" >-0.025606</td>\n",
              "            </tr>\n",
              "            <tr>\n",
              "                        <th id=\"T_1146686e_1164_11ec_bdb8_0242ac1c0002level0_row33\" class=\"row_heading level0 row33\" >YrSold</th>\n",
              "                        <td id=\"T_1146686e_1164_11ec_bdb8_0242ac1c0002row33_col0\" class=\"data row33 col0\" >-0.028923</td>\n",
              "            </tr>\n",
              "            <tr>\n",
              "                        <th id=\"T_1146686e_1164_11ec_bdb8_0242ac1c0002level0_row34\" class=\"row_heading level0 row34\" >OverallCond</th>\n",
              "                        <td id=\"T_1146686e_1164_11ec_bdb8_0242ac1c0002row34_col0\" class=\"data row34 col0\" >-0.077856</td>\n",
              "            </tr>\n",
              "            <tr>\n",
              "                        <th id=\"T_1146686e_1164_11ec_bdb8_0242ac1c0002level0_row35\" class=\"row_heading level0 row35\" >MSSubClass</th>\n",
              "                        <td id=\"T_1146686e_1164_11ec_bdb8_0242ac1c0002row35_col0\" class=\"data row35 col0\" >-0.084284</td>\n",
              "            </tr>\n",
              "            <tr>\n",
              "                        <th id=\"T_1146686e_1164_11ec_bdb8_0242ac1c0002level0_row36\" class=\"row_heading level0 row36\" >EnclosedPorch</th>\n",
              "                        <td id=\"T_1146686e_1164_11ec_bdb8_0242ac1c0002row36_col0\" class=\"data row36 col0\" >-0.128578</td>\n",
              "            </tr>\n",
              "            <tr>\n",
              "                        <th id=\"T_1146686e_1164_11ec_bdb8_0242ac1c0002level0_row37\" class=\"row_heading level0 row37\" >KitchenAbvGr</th>\n",
              "                        <td id=\"T_1146686e_1164_11ec_bdb8_0242ac1c0002row37_col0\" class=\"data row37 col0\" >-0.135907</td>\n",
              "            </tr>\n",
              "    </tbody></table>"
            ],
            "text/plain": [
              "<pandas.io.formats.style.Styler at 0x7f5149646490>"
            ]
          },
          "metadata": {},
          "execution_count": 13
        }
      ]
    },
    {
      "cell_type": "markdown",
      "metadata": {
        "id": "YlA7YodxFpUu"
      },
      "source": [
        "Now let's explore the dataset for outliers."
      ]
    },
    {
      "cell_type": "code",
      "metadata": {
        "colab": {
          "base_uri": "https://localhost:8080/",
          "height": 362
        },
        "id": "4lVL80ZtFqdJ",
        "outputId": "da848c6b-a62a-48d0-85f4-cb5f14060ea1"
      },
      "source": [
        "fig, axes = plt.subplots(1, 2, sharex=True, figsize=(15,5))\n",
        "axes[0].set_xlim(0,10)\n",
        "\n",
        "sns.scatterplot(data=pd_train, ax=axes[0], x='OverallQual', y='SalePrice')\n",
        "axes[0].set_title('OverallQual vs SalePrice')\n",
        "sns.scatterplot(data=pd_train, ax=axes[1], x='GarageCars', y='SalePrice')\n",
        "axes[1].set_title('GarageCars vs SalePrice')"
      ],
      "execution_count": 14,
      "outputs": [
        {
          "output_type": "execute_result",
          "data": {
            "text/plain": [
              "Text(0.5, 1.0, 'GarageCars vs SalePrice')"
            ]
          },
          "metadata": {},
          "execution_count": 14
        },
        {
          "output_type": "display_data",
          "data": {
            "image/png": "[encoded data removed]",
            "text/plain": [
              "<Figure size 1080x360 with 2 Axes>"
            ]
          },
          "metadata": {
            "needs_background": "light"
          }
        }
      ]
    },
    {
      "cell_type": "code",
      "metadata": {
        "colab": {
          "base_uri": "https://localhost:8080/",
          "height": 360
        },
        "id": "FLtB5yifFuPs",
        "outputId": "a7ccc48b-7529-481e-946a-8806da25a705"
      },
      "source": [
        "fig, axes = plt.subplots(1, 2, sharex=True, figsize=(15,5))\n",
        "axes[0].set_xlim(0, 6000)\n",
        "\n",
        "sns.scatterplot(data=pd_train, ax=axes[0], x='GrLivArea', y='SalePrice')\n",
        "axes[0].set_title('GrLivArea vs SalePrice')\n",
        "sns.scatterplot(data=pd_train, ax=axes[1], x='GarageArea', y='SalePrice')\n",
        "axes[1].set_title('GarageArea vs SalePrice')"
      ],
      "execution_count": 15,
      "outputs": [
        {
          "output_type": "execute_result",
          "data": {
            "text/plain": [
              "Text(0.5, 1.0, 'GarageArea vs SalePrice')"
            ]
          },
          "metadata": {},
          "execution_count": 15
        },
        {
          "output_type": "display_data",
          "data": {
            "image/png": "[encoded data removed]",
            "text/plain": [
              "<Figure size 1080x360 with 2 Axes>"
            ]
          },
          "metadata": {
            "needs_background": "light"
          }
        }
      ]
    },
    {
      "cell_type": "code",
      "metadata": {
        "colab": {
          "base_uri": "https://localhost:8080/",
          "height": 360
        },
        "id": "qmUPqhAaFyUT",
        "outputId": "0ec540b1-6014-4cf4-ee39-27493c5efa5b"
      },
      "source": [
        "fig, axes = plt.subplots(1, 2, sharex=True, figsize=(15,5))\n",
        "axes[0].set_xlim(0, 6000)\n",
        "\n",
        "sns.scatterplot(data=pd_train, ax=axes[0], x='TotalBsmtSF', y='SalePrice')\n",
        "axes[0].set_title('TotalBsmtSF vs SalePrice')\n",
        "sns.scatterplot(data=pd_train, ax=axes[1], x='1stFlrSF', y='SalePrice')\n",
        "axes[1].set_title('1stFlrSF vs SalePrice')"
      ],
      "execution_count": 16,
      "outputs": [
        {
          "output_type": "execute_result",
          "data": {
            "text/plain": [
              "Text(0.5, 1.0, '1stFlrSF vs SalePrice')"
            ]
          },
          "metadata": {},
          "execution_count": 16
        },
        {
          "output_type": "display_data",
          "data": {
            "image/png": "[encoded data removed]",
            "text/plain": [
              "<Figure size 1080x360 with 2 Axes>"
            ]
          },
          "metadata": {
            "needs_background": "light"
          }
        }
      ]
    },
    {
      "cell_type": "code",
      "metadata": {
        "colab": {
          "base_uri": "https://localhost:8080/",
          "height": 514
        },
        "id": "DmV8lrecF361",
        "outputId": "f8e73dc8-ecb8-4f50-9980-83cd35fcf1d8"
      },
      "source": [
        "total = pd_train.isnull().sum().sort_values(ascending=False)\n",
        "percent = (pd_train.isnull().sum()/pd_train.shape[0]).sort_values(ascending=False)\n",
        "\n",
        "missing = pd.concat([total, percent], axis=1, keys=['Total', 'Perc_missing'])\n",
        "missing.head(15)"
      ],
      "execution_count": 17,
      "outputs": [
        {
          "output_type": "execute_result",
          "data": {
            "text/html": [
              "<div>\n",
              "<style scoped>\n",
              "    .dataframe tbody tr th:only-of-type {\n",
              "        vertical-align: middle;\n",
              "    }\n",
              "\n",
              "    .dataframe tbody tr th {\n",
              "        vertical-align: top;\n",
              "    }\n",
              "\n",
              "    .dataframe thead th {\n",
              "        text-align: right;\n",
              "    }\n",
              "</style>\n",
              "<table border=\"1\" class=\"dataframe\">\n",
              "  <thead>\n",
              "    <tr style=\"text-align: right;\">\n",
              "      <th></th>\n",
              "      <th>Total</th>\n",
              "      <th>Perc_missing</th>\n",
              "    </tr>\n",
              "  </thead>\n",
              "  <tbody>\n",
              "    <tr>\n",
              "      <th>PoolQC</th>\n",
              "      <td>1453</td>\n",
              "      <td>0.995205</td>\n",
              "    </tr>\n",
              "    <tr>\n",
              "      <th>MiscFeature</th>\n",
              "      <td>1406</td>\n",
              "      <td>0.963014</td>\n",
              "    </tr>\n",
              "    <tr>\n",
              "      <th>Alley</th>\n",
              "      <td>1369</td>\n",
              "      <td>0.937671</td>\n",
              "    </tr>\n",
              "    <tr>\n",
              "      <th>Fence</th>\n",
              "      <td>1179</td>\n",
              "      <td>0.807534</td>\n",
              "    </tr>\n",
              "    <tr>\n",
              "      <th>FireplaceQu</th>\n",
              "      <td>690</td>\n",
              "      <td>0.472603</td>\n",
              "    </tr>\n",
              "    <tr>\n",
              "      <th>LotFrontage</th>\n",
              "      <td>259</td>\n",
              "      <td>0.177397</td>\n",
              "    </tr>\n",
              "    <tr>\n",
              "      <th>GarageCond</th>\n",
              "      <td>81</td>\n",
              "      <td>0.055479</td>\n",
              "    </tr>\n",
              "    <tr>\n",
              "      <th>GarageType</th>\n",
              "      <td>81</td>\n",
              "      <td>0.055479</td>\n",
              "    </tr>\n",
              "    <tr>\n",
              "      <th>GarageYrBlt</th>\n",
              "      <td>81</td>\n",
              "      <td>0.055479</td>\n",
              "    </tr>\n",
              "    <tr>\n",
              "      <th>GarageFinish</th>\n",
              "      <td>81</td>\n",
              "      <td>0.055479</td>\n",
              "    </tr>\n",
              "    <tr>\n",
              "      <th>GarageQual</th>\n",
              "      <td>81</td>\n",
              "      <td>0.055479</td>\n",
              "    </tr>\n",
              "    <tr>\n",
              "      <th>BsmtExposure</th>\n",
              "      <td>38</td>\n",
              "      <td>0.026027</td>\n",
              "    </tr>\n",
              "    <tr>\n",
              "      <th>BsmtFinType2</th>\n",
              "      <td>38</td>\n",
              "      <td>0.026027</td>\n",
              "    </tr>\n",
              "    <tr>\n",
              "      <th>BsmtFinType1</th>\n",
              "      <td>37</td>\n",
              "      <td>0.025342</td>\n",
              "    </tr>\n",
              "    <tr>\n",
              "      <th>BsmtCond</th>\n",
              "      <td>37</td>\n",
              "      <td>0.025342</td>\n",
              "    </tr>\n",
              "  </tbody>\n",
              "</table>\n",
              "</div>"
            ],
            "text/plain": [
              "              Total  Perc_missing\n",
              "PoolQC         1453      0.995205\n",
              "MiscFeature    1406      0.963014\n",
              "Alley          1369      0.937671\n",
              "Fence          1179      0.807534\n",
              "FireplaceQu     690      0.472603\n",
              "LotFrontage     259      0.177397\n",
              "GarageCond       81      0.055479\n",
              "GarageType       81      0.055479\n",
              "GarageYrBlt      81      0.055479\n",
              "GarageFinish     81      0.055479\n",
              "GarageQual       81      0.055479\n",
              "BsmtExposure     38      0.026027\n",
              "BsmtFinType2     38      0.026027\n",
              "BsmtFinType1     37      0.025342\n",
              "BsmtCond         37      0.025342"
            ]
          },
          "metadata": {},
          "execution_count": 17
        }
      ]
    },
    {
      "cell_type": "code",
      "metadata": {
        "colab": {
          "base_uri": "https://localhost:8080/",
          "height": 224
        },
        "id": "RIUAdvSDF_nm",
        "outputId": "b1ccfac5-2ad6-4688-ecaa-053dbb91655a"
      },
      "source": [
        "# We will remove features with missing proportion of more than 15% (thumb rule)\n",
        "\n",
        "pd_train = pd_train.drop((missing[missing['Perc_missing'] >= 0.15]).index,1)\n",
        "pd_train.head()"
      ],
      "execution_count": 18,
      "outputs": [
        {
          "output_type": "execute_result",
          "data": {
            "text/html": [
              "<div>\n",
              "<style scoped>\n",
              "    .dataframe tbody tr th:only-of-type {\n",
              "        vertical-align: middle;\n",
              "    }\n",
              "\n",
              "    .dataframe tbody tr th {\n",
              "        vertical-align: top;\n",
              "    }\n",
              "\n",
              "    .dataframe thead th {\n",
              "        text-align: right;\n",
              "    }\n",
              "</style>\n",
              "<table border=\"1\" class=\"dataframe\">\n",
              "  <thead>\n",
              "    <tr style=\"text-align: right;\">\n",
              "      <th></th>\n",
              "      <th>Id</th>\n",
              "      <th>MSSubClass</th>\n",
              "      <th>MSZoning</th>\n",
              "      <th>LotArea</th>\n",
              "      <th>Street</th>\n",
              "      <th>LotShape</th>\n",
              "      <th>LandContour</th>\n",
              "      <th>Utilities</th>\n",
              "      <th>LotConfig</th>\n",
              "      <th>LandSlope</th>\n",
              "      <th>Neighborhood</th>\n",
              "      <th>Condition1</th>\n",
              "      <th>Condition2</th>\n",
              "      <th>BldgType</th>\n",
              "      <th>HouseStyle</th>\n",
              "      <th>OverallQual</th>\n",
              "      <th>OverallCond</th>\n",
              "      <th>YearBuilt</th>\n",
              "      <th>YearRemodAdd</th>\n",
              "      <th>RoofStyle</th>\n",
              "      <th>RoofMatl</th>\n",
              "      <th>Exterior1st</th>\n",
              "      <th>Exterior2nd</th>\n",
              "      <th>MasVnrType</th>\n",
              "      <th>MasVnrArea</th>\n",
              "      <th>ExterQual</th>\n",
              "      <th>ExterCond</th>\n",
              "      <th>Foundation</th>\n",
              "      <th>BsmtQual</th>\n",
              "      <th>BsmtCond</th>\n",
              "      <th>BsmtExposure</th>\n",
              "      <th>BsmtFinType1</th>\n",
              "      <th>BsmtFinSF1</th>\n",
              "      <th>BsmtFinType2</th>\n",
              "      <th>BsmtFinSF2</th>\n",
              "      <th>BsmtUnfSF</th>\n",
              "      <th>TotalBsmtSF</th>\n",
              "      <th>Heating</th>\n",
              "      <th>HeatingQC</th>\n",
              "      <th>CentralAir</th>\n",
              "      <th>Electrical</th>\n",
              "      <th>1stFlrSF</th>\n",
              "      <th>2ndFlrSF</th>\n",
              "      <th>LowQualFinSF</th>\n",
              "      <th>GrLivArea</th>\n",
              "      <th>BsmtFullBath</th>\n",
              "      <th>BsmtHalfBath</th>\n",
              "      <th>FullBath</th>\n",
              "      <th>HalfBath</th>\n",
              "      <th>BedroomAbvGr</th>\n",
              "      <th>KitchenAbvGr</th>\n",
              "      <th>KitchenQual</th>\n",
              "      <th>TotRmsAbvGrd</th>\n",
              "      <th>Functional</th>\n",
              "      <th>Fireplaces</th>\n",
              "      <th>GarageType</th>\n",
              "      <th>GarageYrBlt</th>\n",
              "      <th>GarageFinish</th>\n",
              "      <th>GarageCars</th>\n",
              "      <th>GarageArea</th>\n",
              "      <th>GarageQual</th>\n",
              "      <th>GarageCond</th>\n",
              "      <th>PavedDrive</th>\n",
              "      <th>WoodDeckSF</th>\n",
              "      <th>OpenPorchSF</th>\n",
              "      <th>EnclosedPorch</th>\n",
              "      <th>3SsnPorch</th>\n",
              "      <th>ScreenPorch</th>\n",
              "      <th>PoolArea</th>\n",
              "      <th>MiscVal</th>\n",
              "      <th>MoSold</th>\n",
              "      <th>YrSold</th>\n",
              "      <th>SaleType</th>\n",
              "      <th>SaleCondition</th>\n",
              "      <th>SalePrice</th>\n",
              "    </tr>\n",
              "  </thead>\n",
              "  <tbody>\n",
              "    <tr>\n",
              "      <th>0</th>\n",
              "      <td>1</td>\n",
              "      <td>60</td>\n",
              "      <td>RL</td>\n",
              "      <td>8450</td>\n",
              "      <td>Pave</td>\n",
              "      <td>Reg</td>\n",
              "      <td>Lvl</td>\n",
              "      <td>AllPub</td>\n",
              "      <td>Inside</td>\n",
              "      <td>Gtl</td>\n",
              "      <td>CollgCr</td>\n",
              "      <td>Norm</td>\n",
              "      <td>Norm</td>\n",
              "      <td>1Fam</td>\n",
              "      <td>2Story</td>\n",
              "      <td>7</td>\n",
              "      <td>5</td>\n",
              "      <td>2003</td>\n",
              "      <td>2003</td>\n",
              "      <td>Gable</td>\n",
              "      <td>CompShg</td>\n",
              "      <td>VinylSd</td>\n",
              "      <td>VinylSd</td>\n",
              "      <td>BrkFace</td>\n",
              "      <td>196.0</td>\n",
              "      <td>Gd</td>\n",
              "      <td>TA</td>\n",
              "      <td>PConc</td>\n",
              "      <td>Gd</td>\n",
              "      <td>TA</td>\n",
              "      <td>No</td>\n",
              "      <td>GLQ</td>\n",
              "      <td>706</td>\n",
              "      <td>Unf</td>\n",
              "      <td>0</td>\n",
              "      <td>150</td>\n",
              "      <td>856</td>\n",
              "      <td>GasA</td>\n",
              "      <td>Ex</td>\n",
              "      <td>Y</td>\n",
              "      <td>SBrkr</td>\n",
              "      <td>856</td>\n",
              "      <td>854</td>\n",
              "      <td>0</td>\n",
              "      <td>1710</td>\n",
              "      <td>1</td>\n",
              "      <td>0</td>\n",
              "      <td>2</td>\n",
              "      <td>1</td>\n",
              "      <td>3</td>\n",
              "      <td>1</td>\n",
              "      <td>Gd</td>\n",
              "      <td>8</td>\n",
              "      <td>Typ</td>\n",
              "      <td>0</td>\n",
              "      <td>Attchd</td>\n",
              "      <td>2003.0</td>\n",
              "      <td>RFn</td>\n",
              "      <td>2</td>\n",
              "      <td>548</td>\n",
              "      <td>TA</td>\n",
              "      <td>TA</td>\n",
              "      <td>Y</td>\n",
              "      <td>0</td>\n",
              "      <td>61</td>\n",
              "      <td>0</td>\n",
              "      <td>0</td>\n",
              "      <td>0</td>\n",
              "      <td>0</td>\n",
              "      <td>0</td>\n",
              "      <td>2</td>\n",
              "      <td>2008</td>\n",
              "      <td>WD</td>\n",
              "      <td>Normal</td>\n",
              "      <td>208500</td>\n",
              "    </tr>\n",
              "    <tr>\n",
              "      <th>1</th>\n",
              "      <td>2</td>\n",
              "      <td>20</td>\n",
              "      <td>RL</td>\n",
              "      <td>9600</td>\n",
              "      <td>Pave</td>\n",
              "      <td>Reg</td>\n",
              "      <td>Lvl</td>\n",
              "      <td>AllPub</td>\n",
              "      <td>FR2</td>\n",
              "      <td>Gtl</td>\n",
              "      <td>Veenker</td>\n",
              "      <td>Feedr</td>\n",
              "      <td>Norm</td>\n",
              "      <td>1Fam</td>\n",
              "      <td>1Story</td>\n",
              "      <td>6</td>\n",
              "      <td>8</td>\n",
              "      <td>1976</td>\n",
              "      <td>1976</td>\n",
              "      <td>Gable</td>\n",
              "      <td>CompShg</td>\n",
              "      <td>MetalSd</td>\n",
              "      <td>MetalSd</td>\n",
              "      <td>None</td>\n",
              "      <td>0.0</td>\n",
              "      <td>TA</td>\n",
              "      <td>TA</td>\n",
              "      <td>CBlock</td>\n",
              "      <td>Gd</td>\n",
              "      <td>TA</td>\n",
              "      <td>Gd</td>\n",
              "      <td>ALQ</td>\n",
              "      <td>978</td>\n",
              "      <td>Unf</td>\n",
              "      <td>0</td>\n",
              "      <td>284</td>\n",
              "      <td>1262</td>\n",
              "      <td>GasA</td>\n",
              "      <td>Ex</td>\n",
              "      <td>Y</td>\n",
              "      <td>SBrkr</td>\n",
              "      <td>1262</td>\n",
              "      <td>0</td>\n",
              "      <td>0</td>\n",
              "      <td>1262</td>\n",
              "      <td>0</td>\n",
              "      <td>1</td>\n",
              "      <td>2</td>\n",
              "      <td>0</td>\n",
              "      <td>3</td>\n",
              "      <td>1</td>\n",
              "      <td>TA</td>\n",
              "      <td>6</td>\n",
              "      <td>Typ</td>\n",
              "      <td>1</td>\n",
              "      <td>Attchd</td>\n",
              "      <td>1976.0</td>\n",
              "      <td>RFn</td>\n",
              "      <td>2</td>\n",
              "      <td>460</td>\n",
              "      <td>TA</td>\n",
              "      <td>TA</td>\n",
              "      <td>Y</td>\n",
              "      <td>298</td>\n",
              "      <td>0</td>\n",
              "      <td>0</td>\n",
              "      <td>0</td>\n",
              "      <td>0</td>\n",
              "      <td>0</td>\n",
              "      <td>0</td>\n",
              "      <td>5</td>\n",
              "      <td>2007</td>\n",
              "      <td>WD</td>\n",
              "      <td>Normal</td>\n",
              "      <td>181500</td>\n",
              "    </tr>\n",
              "    <tr>\n",
              "      <th>2</th>\n",
              "      <td>3</td>\n",
              "      <td>60</td>\n",
              "      <td>RL</td>\n",
              "      <td>11250</td>\n",
              "      <td>Pave</td>\n",
              "      <td>IR1</td>\n",
              "      <td>Lvl</td>\n",
              "      <td>AllPub</td>\n",
              "      <td>Inside</td>\n",
              "      <td>Gtl</td>\n",
              "      <td>CollgCr</td>\n",
              "      <td>Norm</td>\n",
              "      <td>Norm</td>\n",
              "      <td>1Fam</td>\n",
              "      <td>2Story</td>\n",
              "      <td>7</td>\n",
              "      <td>5</td>\n",
              "      <td>2001</td>\n",
              "      <td>2002</td>\n",
              "      <td>Gable</td>\n",
              "      <td>CompShg</td>\n",
              "      <td>VinylSd</td>\n",
              "      <td>VinylSd</td>\n",
              "      <td>BrkFace</td>\n",
              "      <td>162.0</td>\n",
              "      <td>Gd</td>\n",
              "      <td>TA</td>\n",
              "      <td>PConc</td>\n",
              "      <td>Gd</td>\n",
              "      <td>TA</td>\n",
              "      <td>Mn</td>\n",
              "      <td>GLQ</td>\n",
              "      <td>486</td>\n",
              "      <td>Unf</td>\n",
              "      <td>0</td>\n",
              "      <td>434</td>\n",
              "      <td>920</td>\n",
              "      <td>GasA</td>\n",
              "      <td>Ex</td>\n",
              "      <td>Y</td>\n",
              "      <td>SBrkr</td>\n",
              "      <td>920</td>\n",
              "      <td>866</td>\n",
              "      <td>0</td>\n",
              "      <td>1786</td>\n",
              "      <td>1</td>\n",
              "      <td>0</td>\n",
              "      <td>2</td>\n",
              "      <td>1</td>\n",
              "      <td>3</td>\n",
              "      <td>1</td>\n",
              "      <td>Gd</td>\n",
              "      <td>6</td>\n",
              "      <td>Typ</td>\n",
              "      <td>1</td>\n",
              "      <td>Attchd</td>\n",
              "      <td>2001.0</td>\n",
              "      <td>RFn</td>\n",
              "      <td>2</td>\n",
              "      <td>608</td>\n",
              "      <td>TA</td>\n",
              "      <td>TA</td>\n",
              "      <td>Y</td>\n",
              "      <td>0</td>\n",
              "      <td>42</td>\n",
              "      <td>0</td>\n",
              "      <td>0</td>\n",
              "      <td>0</td>\n",
              "      <td>0</td>\n",
              "      <td>0</td>\n",
              "      <td>9</td>\n",
              "      <td>2008</td>\n",
              "      <td>WD</td>\n",
              "      <td>Normal</td>\n",
              "      <td>223500</td>\n",
              "    </tr>\n",
              "    <tr>\n",
              "      <th>3</th>\n",
              "      <td>4</td>\n",
              "      <td>70</td>\n",
              "      <td>RL</td>\n",
              "      <td>9550</td>\n",
              "      <td>Pave</td>\n",
              "      <td>IR1</td>\n",
              "      <td>Lvl</td>\n",
              "      <td>AllPub</td>\n",
              "      <td>Corner</td>\n",
              "      <td>Gtl</td>\n",
              "      <td>Crawfor</td>\n",
              "      <td>Norm</td>\n",
              "      <td>Norm</td>\n",
              "      <td>1Fam</td>\n",
              "      <td>2Story</td>\n",
              "      <td>7</td>\n",
              "      <td>5</td>\n",
              "      <td>1915</td>\n",
              "      <td>1970</td>\n",
              "      <td>Gable</td>\n",
              "      <td>CompShg</td>\n",
              "      <td>Wd Sdng</td>\n",
              "      <td>Wd Shng</td>\n",
              "      <td>None</td>\n",
              "      <td>0.0</td>\n",
              "      <td>TA</td>\n",
              "      <td>TA</td>\n",
              "      <td>BrkTil</td>\n",
              "      <td>TA</td>\n",
              "      <td>Gd</td>\n",
              "      <td>No</td>\n",
              "      <td>ALQ</td>\n",
              "      <td>216</td>\n",
              "      <td>Unf</td>\n",
              "      <td>0</td>\n",
              "      <td>540</td>\n",
              "      <td>756</td>\n",
              "      <td>GasA</td>\n",
              "      <td>Gd</td>\n",
              "      <td>Y</td>\n",
              "      <td>SBrkr</td>\n",
              "      <td>961</td>\n",
              "      <td>756</td>\n",
              "      <td>0</td>\n",
              "      <td>1717</td>\n",
              "      <td>1</td>\n",
              "      <td>0</td>\n",
              "      <td>1</td>\n",
              "      <td>0</td>\n",
              "      <td>3</td>\n",
              "      <td>1</td>\n",
              "      <td>Gd</td>\n",
              "      <td>7</td>\n",
              "      <td>Typ</td>\n",
              "      <td>1</td>\n",
              "      <td>Detchd</td>\n",
              "      <td>1998.0</td>\n",
              "      <td>Unf</td>\n",
              "      <td>3</td>\n",
              "      <td>642</td>\n",
              "      <td>TA</td>\n",
              "      <td>TA</td>\n",
              "      <td>Y</td>\n",
              "      <td>0</td>\n",
              "      <td>35</td>\n",
              "      <td>272</td>\n",
              "      <td>0</td>\n",
              "      <td>0</td>\n",
              "      <td>0</td>\n",
              "      <td>0</td>\n",
              "      <td>2</td>\n",
              "      <td>2006</td>\n",
              "      <td>WD</td>\n",
              "      <td>Abnorml</td>\n",
              "      <td>140000</td>\n",
              "    </tr>\n",
              "    <tr>\n",
              "      <th>4</th>\n",
              "      <td>5</td>\n",
              "      <td>60</td>\n",
              "      <td>RL</td>\n",
              "      <td>14260</td>\n",
              "      <td>Pave</td>\n",
              "      <td>IR1</td>\n",
              "      <td>Lvl</td>\n",
              "      <td>AllPub</td>\n",
              "      <td>FR2</td>\n",
              "      <td>Gtl</td>\n",
              "      <td>NoRidge</td>\n",
              "      <td>Norm</td>\n",
              "      <td>Norm</td>\n",
              "      <td>1Fam</td>\n",
              "      <td>2Story</td>\n",
              "      <td>8</td>\n",
              "      <td>5</td>\n",
              "      <td>2000</td>\n",
              "      <td>2000</td>\n",
              "      <td>Gable</td>\n",
              "      <td>CompShg</td>\n",
              "      <td>VinylSd</td>\n",
              "      <td>VinylSd</td>\n",
              "      <td>BrkFace</td>\n",
              "      <td>350.0</td>\n",
              "      <td>Gd</td>\n",
              "      <td>TA</td>\n",
              "      <td>PConc</td>\n",
              "      <td>Gd</td>\n",
              "      <td>TA</td>\n",
              "      <td>Av</td>\n",
              "      <td>GLQ</td>\n",
              "      <td>655</td>\n",
              "      <td>Unf</td>\n",
              "      <td>0</td>\n",
              "      <td>490</td>\n",
              "      <td>1145</td>\n",
              "      <td>GasA</td>\n",
              "      <td>Ex</td>\n",
              "      <td>Y</td>\n",
              "      <td>SBrkr</td>\n",
              "      <td>1145</td>\n",
              "      <td>1053</td>\n",
              "      <td>0</td>\n",
              "      <td>2198</td>\n",
              "      <td>1</td>\n",
              "      <td>0</td>\n",
              "      <td>2</td>\n",
              "      <td>1</td>\n",
              "      <td>4</td>\n",
              "      <td>1</td>\n",
              "      <td>Gd</td>\n",
              "      <td>9</td>\n",
              "      <td>Typ</td>\n",
              "      <td>1</td>\n",
              "      <td>Attchd</td>\n",
              "      <td>2000.0</td>\n",
              "      <td>RFn</td>\n",
              "      <td>3</td>\n",
              "      <td>836</td>\n",
              "      <td>TA</td>\n",
              "      <td>TA</td>\n",
              "      <td>Y</td>\n",
              "      <td>192</td>\n",
              "      <td>84</td>\n",
              "      <td>0</td>\n",
              "      <td>0</td>\n",
              "      <td>0</td>\n",
              "      <td>0</td>\n",
              "      <td>0</td>\n",
              "      <td>12</td>\n",
              "      <td>2008</td>\n",
              "      <td>WD</td>\n",
              "      <td>Normal</td>\n",
              "      <td>250000</td>\n",
              "    </tr>\n",
              "  </tbody>\n",
              "</table>\n",
              "</div>"
            ],
            "text/plain": [
              "   Id  MSSubClass MSZoning  LotArea  ... YrSold SaleType SaleCondition SalePrice\n",
              "0   1          60       RL     8450  ...   2008       WD        Normal    208500\n",
              "1   2          20       RL     9600  ...   2007       WD        Normal    181500\n",
              "2   3          60       RL    11250  ...   2008       WD        Normal    223500\n",
              "3   4          70       RL     9550  ...   2006       WD       Abnorml    140000\n",
              "4   5          60       RL    14260  ...   2008       WD        Normal    250000\n",
              "\n",
              "[5 rows x 75 columns]"
            ]
          },
          "metadata": {},
          "execution_count": 18
        }
      ]
    },
    {
      "cell_type": "code",
      "metadata": {
        "id": "mfal2H5dGAiZ"
      },
      "source": [
        "pd_train['New'] = pd_train['OverallQual'] * pd_train['GarageArea'] * pd_train['GrLivArea']\n",
        "pd_test['New'] = pd_test['OverallQual'] * pd_test['GarageArea'] * pd_test['GrLivArea']\n",
        "\n",
        "# As some of the contestants have noticed, this results in a spike in model performance later"
      ],
      "execution_count": 19,
      "outputs": []
    },
    {
      "cell_type": "code",
      "metadata": {
        "id": "kpkeO5dYGJoD"
      },
      "source": [
        "train_cols = list(pd_train.columns)\n",
        "train_cols.remove('SalePrice')"
      ],
      "execution_count": 20,
      "outputs": []
    },
    {
      "cell_type": "code",
      "metadata": {
        "id": "jJUDK-tSMrbO"
      },
      "source": [
        "#Make test ds feature set same as in train ds\n",
        "pd_test = pd_test[train_cols]"
      ],
      "execution_count": 21,
      "outputs": []
    },
    {
      "cell_type": "code",
      "metadata": {
        "colab": {
          "base_uri": "https://localhost:8080/"
        },
        "id": "BLvQY8kjM0lo",
        "outputId": "b2b42bf6-f875-4304-d026-8a1c19cb00fc"
      },
      "source": [
        "pd_test.columns[pd_test.isna().any()].tolist()"
      ],
      "execution_count": 22,
      "outputs": [
        {
          "output_type": "execute_result",
          "data": {
            "text/plain": [
              "['MSZoning',\n",
              " 'Utilities',\n",
              " 'Exterior1st',\n",
              " 'Exterior2nd',\n",
              " 'MasVnrType',\n",
              " 'MasVnrArea',\n",
              " 'BsmtQual',\n",
              " 'BsmtCond',\n",
              " 'BsmtExposure',\n",
              " 'BsmtFinType1',\n",
              " 'BsmtFinSF1',\n",
              " 'BsmtFinType2',\n",
              " 'BsmtFinSF2',\n",
              " 'BsmtUnfSF',\n",
              " 'TotalBsmtSF',\n",
              " 'BsmtFullBath',\n",
              " 'BsmtHalfBath',\n",
              " 'KitchenQual',\n",
              " 'Functional',\n",
              " 'GarageType',\n",
              " 'GarageYrBlt',\n",
              " 'GarageFinish',\n",
              " 'GarageCars',\n",
              " 'GarageArea',\n",
              " 'GarageQual',\n",
              " 'GarageCond',\n",
              " 'SaleType',\n",
              " 'New']"
            ]
          },
          "metadata": {},
          "execution_count": 22
        }
      ]
    },
    {
      "cell_type": "code",
      "metadata": {
        "colab": {
          "base_uri": "https://localhost:8080/"
        },
        "id": "imM408KGM-v2",
        "outputId": "f8101b57-4809-4f36-af75-9688d831d0d5"
      },
      "source": [
        "# Althoug this is not the best solution to fill the NA-values with \"None\"/0, for most of the features \n",
        "# in the particular datas, it literally means \"None\"/0 (e.g. Garage Area, Garage Type, Condition) as the house\n",
        "# probably doesn't have the garage.\n",
        "\n",
        "for col in ['BsmtQual', 'BsmtCond', 'BsmtExposure', 'BsmtFinType1', 'BsmtFinType2']:\n",
        "    pd_train[col] = pd_train[col].fillna(\"None\")\n",
        "    pd_test[col] = pd_test[col].fillna(\"None\")\n",
        "    \n",
        "for col in ['GarageType', 'GarageFinish', 'GarageQual', 'GarageCond']:\n",
        "    pd_train[col] = pd_train[col].fillna(\"None\")\n",
        "    pd_test[col] = pd_test[col].fillna(\"None\")\n",
        "    pd_train['MasVnrArea'] = pd_train['MasVnrArea'].fillna(0)\n",
        "pd_test['MasVnrArea'] = pd_test['MasVnrArea'].fillna(0)\n",
        "\n",
        "pd_train['Electrical'] = pd_train['Electrical'].fillna(pd_train['Electrical'].mode()[0])\n",
        "pd_test['Electrical'] = pd_test['Electrical'].fillna(pd_test['Electrical'].mode()[0])\n",
        "\n",
        "print(pd_train.isnull().sum().max()) # check if any missing values are left\n",
        "print(pd_test.isnull().sum().max())"
      ],
      "execution_count": 23,
      "outputs": [
        {
          "output_type": "stream",
          "name": "stdout",
          "text": [
            "81\n",
            "78\n"
          ]
        }
      ]
    },
    {
      "cell_type": "code",
      "metadata": {
        "id": "uqOPd0BkNISg"
      },
      "source": [
        "pd_test['BsmtFinSF1'] = pd_test['BsmtFinSF1'].fillna(pd_test['BsmtFinSF1'].mean())\n",
        "pd_test['BsmtFinSF2'] = pd_test['BsmtFinSF2'].fillna(pd_test['BsmtFinSF2'].mean())\n",
        "pd_test['BsmtUnfSF'] = pd_test['BsmtUnfSF'].fillna(pd_test['BsmtUnfSF'].mean())\n",
        "pd_test['TotalBsmtSF'] = pd_test['TotalBsmtSF'].fillna(pd_test['TotalBsmtSF'].mean())\n",
        "pd_test['BsmtFullBath'] = pd_test['BsmtFullBath'].fillna(pd_test['BsmtFullBath'].mean())\n",
        "pd_test['BsmtHalfBath'] = pd_test['BsmtHalfBath'].fillna(pd_test['BsmtHalfBath'].mean())"
      ],
      "execution_count": 24,
      "outputs": []
    },
    {
      "cell_type": "code",
      "metadata": {
        "id": "ylU3cvBPNSwB"
      },
      "source": [
        "# This is how fillna is done in PySpark\n",
        "\n",
        "# train_df = train_df.na.fill('NoData', subset=['MSZoning', 'Utilities', 'Exterior1st', 'Exterior2nd', 'BsmtFinSF1',\n",
        "#       'BsmtFinSF2', 'BsmtUnfSF', 'TotalBsmtSF', 'BsmtFullBath',\n",
        "#       'BsmtHalfBath', 'KitchenQual', 'Functional', 'GarageCars', 'GarageArea','SaleType'])\n",
        "# test_df = test_df.na.fill('NoData', subset=['MSZoning', 'Utilities', 'Exterior1st', 'Exterior2nd', 'BsmtFinSF1',\n",
        "#       'BsmtFinSF2', 'BsmtUnfSF', 'TotalBsmtSF', 'BsmtFullBath',\n",
        "#       'BsmtHalfBath', 'KitchenQual', 'Functional', 'GarageCars', 'GarageArea','SaleType'])"
      ],
      "execution_count": null,
      "outputs": []
    },
    {
      "cell_type": "code",
      "metadata": {
        "id": "CSX2lM4ANTtT"
      },
      "source": [
        "cat_columns = pd_train.select_dtypes(include=['object']).columns\n",
        "pd_train[cat_columns] = pd_train[cat_columns].fillna('NoData')\n",
        "pd_test[cat_columns] = pd_test[cat_columns].fillna('NoData')"
      ],
      "execution_count": 25,
      "outputs": []
    },
    {
      "cell_type": "markdown",
      "metadata": {
        "id": "9hIChUUENfvP"
      },
      "source": [
        "Handling outliers:"
      ]
    },
    {
      "cell_type": "code",
      "metadata": {
        "colab": {
          "base_uri": "https://localhost:8080/"
        },
        "id": "iCX1e4AZNgo0",
        "outputId": "e2bbabac-6513-4848-83f8-7dcd237ce026"
      },
      "source": [
        "print(\"Dropping outliers resulted in %d instances in the new dataset\" % len(pd_train))\n",
        "pd_train = pd_train.drop(pd_train[(pd_train['GrLivArea']>4500) \n",
        "                                & (pd_train['SalePrice']<300000)].index)\n",
        "print(\"Dropping outliers resulted in %d instances in the new dataset\" % len(pd_train))\n",
        "pd_train = pd_train.drop(pd_train[(pd_train['GrLivArea']>5500) \n",
        "                                | (pd_train['SalePrice']>500000)].index)\n",
        "print(\"Dropping outliers resulted in %d instances in the new dataset\" % len(pd_train))\n",
        "pd_train = pd_train.drop(pd_train[pd_train['GarageArea']>1100].index)\n",
        "print(\"Dropping outliers resulted in %d instances in the new dataset\" % len(pd_train))"
      ],
      "execution_count": 26,
      "outputs": [
        {
          "output_type": "stream",
          "name": "stdout",
          "text": [
            "Dropping outliers resulted in 1460 instances in the new dataset\n",
            "Dropping outliers resulted in 1458 instances in the new dataset\n",
            "Dropping outliers resulted in 1449 instances in the new dataset\n",
            "Dropping outliers resulted in 1444 instances in the new dataset\n"
          ]
        }
      ]
    },
    {
      "cell_type": "markdown",
      "metadata": {
        "id": "E3pMJ1cpPI5Z"
      },
      "source": [
        "Creating Spark DataFrames"
      ]
    },
    {
      "cell_type": "code",
      "metadata": {
        "id": "gbTM4QBtT23q"
      },
      "source": [
        "train_df = spark_session.createDataFrame(pd_train)\n",
        "test_df = spark_session.createDataFrame(pd_test)"
      ],
      "execution_count": 27,
      "outputs": []
    },
    {
      "cell_type": "code",
      "metadata": {
        "id": "XVkowl0PT7fo"
      },
      "source": [
        "train_df = train_df.select([c for c in train_df.columns if c not in na_cols])\n",
        "train_cols = train_df.columns\n",
        "train_cols.remove('SalePrice')\n",
        "test_df = test_df.select(train_cols)"
      ],
      "execution_count": 28,
      "outputs": []
    },
    {
      "cell_type": "code",
      "metadata": {
        "id": "c-JY-dWSUAPg"
      },
      "source": [
        "from pyspark.sql.types import IntegerType\n",
        "\n",
        "# As PySpark DFs can be finicky, sometimes your have to explicitly cast certain data types to columns\n",
        "\n",
        "test_df = test_df.withColumn(\"BsmtFinSF1\", test_df[\"BsmtFinSF1\"].cast(IntegerType()))\n",
        "test_df = test_df.withColumn(\"BsmtFinSF2\", test_df[\"BsmtFinSF2\"].cast(IntegerType()))\n",
        "test_df = test_df.withColumn(\"BsmtUnfSF\", test_df[\"BsmtUnfSF\"].cast(IntegerType()))\n",
        "test_df = test_df.withColumn(\"TotalBsmtSF\", test_df[\"TotalBsmtSF\"].cast(IntegerType()))\n",
        "test_df = test_df.withColumn(\"BsmtFullBath\", test_df[\"BsmtFullBath\"].cast(IntegerType()))\n",
        "test_df = test_df.withColumn(\"BsmtHalfBath\", test_df[\"BsmtHalfBath\"].cast(IntegerType()))\n",
        "test_df = test_df.withColumn(\"GarageCars\", test_df[\"GarageCars\"].cast(IntegerType()))\n",
        "test_df = test_df.withColumn(\"GarageArea\", test_df[\"GarageArea\"].cast(IntegerType()))\n",
        "\n",
        "# train_df.printSchema()"
      ],
      "execution_count": 29,
      "outputs": []
    },
    {
      "cell_type": "code",
      "metadata": {
        "id": "WW60lxDLULHn"
      },
      "source": [
        "# Defining string columns to pass on to the String Indexer (= categorical feature encoding)\n",
        "\n",
        "train_string_columns = []\n",
        "\n",
        "for col, dtype in train_df.dtypes:\n",
        "    if dtype == 'string':\n",
        "        train_string_columns.append(col)"
      ],
      "execution_count": 30,
      "outputs": []
    },
    {
      "cell_type": "code",
      "metadata": {
        "id": "K8IZne5dURBh"
      },
      "source": [
        "from pyspark.ml import Pipeline\n",
        "from pyspark.ml.feature import StringIndexer\n",
        "\n",
        "indexers = [StringIndexer(inputCol=column, outputCol=column+'_index', handleInvalid='keep').fit(train_df) for column in train_string_columns]\n",
        "\n",
        "\n",
        "pipeline = Pipeline(stages=indexers)\n",
        "train_indexed = pipeline.fit(train_df).transform(train_df)\n"
      ],
      "execution_count": 31,
      "outputs": []
    },
    {
      "cell_type": "code",
      "metadata": {
        "colab": {
          "base_uri": "https://localhost:8080/"
        },
        "id": "u5ev7u5qUVS7",
        "outputId": "1509e1a7-b612-40ac-ec6c-200ba7658a76"
      },
      "source": [
        "print(len(train_indexed.columns))"
      ],
      "execution_count": 32,
      "outputs": [
        {
          "output_type": "stream",
          "name": "stdout",
          "text": [
            "90\n"
          ]
        }
      ]
    },
    {
      "cell_type": "code",
      "metadata": {
        "id": "hTP3-oPQUZLg"
      },
      "source": [
        "test_string_columns = []\n",
        "\n",
        "for col, dtype in test_df.dtypes:\n",
        "    if dtype == 'string':\n",
        "        test_string_columns.append(col)"
      ],
      "execution_count": 33,
      "outputs": []
    },
    {
      "cell_type": "code",
      "metadata": {
        "id": "JV6-shJ7Udrk"
      },
      "source": [
        "indexers2 = [StringIndexer(inputCol=column, outputCol=column+'_index', handleInvalid='keep').fit(test_df) for column in test_string_columns]\n",
        "\n",
        "pipeline2 = Pipeline(stages=indexers2)\n",
        "test_indexed = pipeline2.fit(test_df).transform(test_df)"
      ],
      "execution_count": 34,
      "outputs": []
    },
    {
      "cell_type": "code",
      "metadata": {
        "colab": {
          "base_uri": "https://localhost:8080/"
        },
        "id": "_C11cnB0Ug-x",
        "outputId": "f9449091-72ba-4747-c42d-0edcb869e5ed"
      },
      "source": [
        "print(len(test_indexed.columns))"
      ],
      "execution_count": 35,
      "outputs": [
        {
          "output_type": "stream",
          "name": "stdout",
          "text": [
            "89\n"
          ]
        }
      ]
    },
    {
      "cell_type": "code",
      "metadata": {
        "id": "_WZZROt5Uj-m"
      },
      "source": [
        "def get_dtype(df,colname):\n",
        "    return [dtype for name, dtype in df.dtypes if name == colname][0]\n",
        "\n",
        "num_cols_train = []\n",
        "for col in train_indexed.columns:\n",
        "    if get_dtype(train_indexed,col) != 'string':\n",
        "        num_cols_train.append(str(col))\n",
        "        \n",
        "num_cols_test = []\n",
        "for col in test_indexed.columns:\n",
        "    if get_dtype(test_indexed,col) != 'string':\n",
        "        num_cols_test.append(str(col))\n",
        "\n",
        "train_indexed = train_indexed.select(num_cols_train)\n",
        "test_indexed = test_indexed.select(num_cols_test)\n"
      ],
      "execution_count": 36,
      "outputs": []
    },
    {
      "cell_type": "code",
      "metadata": {
        "colab": {
          "base_uri": "https://localhost:8080/"
        },
        "id": "rUctulWRUpCr",
        "outputId": "426c3220-6160-4665-9dbd-2200d372a49d"
      },
      "source": [
        "print(len(train_indexed.columns))\n",
        "print(len(test_indexed.columns))"
      ],
      "execution_count": 37,
      "outputs": [
        {
          "output_type": "stream",
          "name": "stdout",
          "text": [
            "63\n",
            "62\n"
          ]
        }
      ]
    },
    {
      "cell_type": "markdown",
      "metadata": {
        "id": "AFoY7NYEUzob"
      },
      "source": [
        "3. Model building (MLlib)\n",
        "Before passing the data on to the PySpark model, we need to vectorize the data."
      ]
    },
    {
      "cell_type": "code",
      "metadata": {
        "id": "Ii0s4jvkU6Og"
      },
      "source": [
        "from pyspark.ml.feature import VectorAssembler\n",
        "vectorAssembler = VectorAssembler(inputCols = train_indexed.drop(\"SalePrice\").columns, outputCol = 'features').setHandleInvalid(\"keep\")\n",
        "\n",
        "train_vector = vectorAssembler.transform(train_indexed)"
      ],
      "execution_count": 38,
      "outputs": []
    },
    {
      "cell_type": "code",
      "metadata": {
        "id": "6rC8zuKMU-mU"
      },
      "source": [
        "vectorAssembler2 = VectorAssembler(inputCols = test_indexed.columns, outputCol = 'features').setHandleInvalid(\"keep\")\n",
        "\n",
        "test_vector = vectorAssembler2.transform(test_indexed)"
      ],
      "execution_count": 39,
      "outputs": []
    },
    {
      "cell_type": "code",
      "metadata": {
        "id": "lNbXm-ocVLiX"
      },
      "source": [
        "from pyspark.sql.functions import lit\n",
        "\n",
        "test_vector = test_vector.withColumn(\"SalePrice\", lit(0))"
      ],
      "execution_count": 40,
      "outputs": []
    },
    {
      "cell_type": "code",
      "metadata": {
        "id": "-lbfzPbWVPdC"
      },
      "source": [
        "#You can use this to scale all instances, however, as I checked, this did not improve the performance\n",
        "\n",
        "#from pyspark.ml.feature import StandardScaler\n",
        "#scaler = StandardScaler(inputCol=\"features\", outputCol=\"scaledFeatures\", withStd=True, withMean=False)\n",
        "#scalerModel = scaler.fit(train_vector)\n",
        "#scaled_train = scalerModel.transform(train_vector)\n",
        "\n",
        "#scalerModel2 = scaler.fit(test_vector)\n",
        "#scaled_test = scalerModel2.transform(test_vector)"
      ],
      "execution_count": 41,
      "outputs": []
    },
    {
      "cell_type": "code",
      "metadata": {
        "id": "IYTrgsB4VTfM"
      },
      "source": [
        "# Train-test split\n",
        "\n",
        "splits = train_vector.randomSplit([0.7, 0.3])\n",
        "train = splits[0]\n",
        "val = splits[1]"
      ],
      "execution_count": 42,
      "outputs": []
    },
    {
      "cell_type": "code",
      "metadata": {
        "colab": {
          "base_uri": "https://localhost:8080/"
        },
        "id": "umSR_vGMVXVT",
        "outputId": "2d0448b4-df22-420f-d3b7-8f6ba1e3a3df"
      },
      "source": [
        "# Simple baseline (linreg)\n",
        "\n",
        "from pyspark.ml.regression import LinearRegression\n",
        "\n",
        "lr = LinearRegression(featuresCol = 'features', labelCol='SalePrice', maxIter=10, \n",
        "                      regParam=0.8, elasticNetParam=0.1) # It is always a good idea to play with hyperparameters.\n",
        "lr_model = lr.fit(train)\n",
        "\n",
        "trainingSummary = lr_model.summary\n",
        "print(\"RMSE: %f\" % trainingSummary.rootMeanSquaredError)\n",
        "print(\"r2: %f\" % trainingSummary.r2)\n",
        "\n",
        "lr_predictions = lr_model.transform(val)\n",
        "lr_predictions.select(\"prediction\",\"SalePrice\",\"features\").show(5)\n",
        "\n",
        "from pyspark.ml.evaluation import RegressionEvaluator\n",
        "lr_evaluator = RegressionEvaluator(predictionCol=\"prediction\", \\\n",
        "                 labelCol=\"SalePrice\",metricName=\"r2\")\n",
        "print(\"R Squared (R2) on val data = %g\" % lr_evaluator.evaluate(lr_predictions))"
      ],
      "execution_count": 43,
      "outputs": [
        {
          "output_type": "stream",
          "name": "stdout",
          "text": [
            "RMSE: 21754.853552\n",
            "r2: 0.901183\n",
            "+------------------+---------+--------------------+\n",
            "|        prediction|SalePrice|            features|\n",
            "+------------------+---------+--------------------+\n",
            "|224147.12712004862|   223500|(62,[0,1,2,3,4,5,...|\n",
            "|167184.41281561682|   143000|(62,[0,1,2,3,4,5,...|\n",
            "|140205.70934804121|   129900|(62,[0,1,2,3,4,5,...|\n",
            "|135822.92144332756|   129500|(62,[0,1,2,3,4,5,...|\n",
            "|138209.87586722325|   144000|(62,[0,1,2,3,4,5,...|\n",
            "+------------------+---------+--------------------+\n",
            "only showing top 5 rows\n",
            "\n",
            "R Squared (R2) on val data = 0.904713\n"
          ]
        }
      ]
    },
    {
      "cell_type": "code",
      "metadata": {
        "colab": {
          "base_uri": "https://localhost:8080/"
        },
        "id": "U2KyE7qjVlGx",
        "outputId": "34efad92-a286-4412-b014-5c2a7c8af0f7"
      },
      "source": [
        "# A more complex model with RF\n",
        "\n",
        "from pyspark.ml.regression import RandomForestRegressor\n",
        "\n",
        "rf = RandomForestRegressor(featuresCol = 'features', labelCol='SalePrice', \n",
        "                           maxDepth=20, \n",
        "                           minInstancesPerNode=2,\n",
        "                           bootstrap=True\n",
        "                          )\n",
        "rf_model = rf.fit(train)\n",
        "rf_predictions = rf_model.transform(val)\n",
        "rf_predictions.select(\"prediction\",\"SalePrice\",\"features\").show(5)\n",
        "\n",
        "from pyspark.ml.evaluation import RegressionEvaluator\n",
        "rf_evaluator = RegressionEvaluator(predictionCol=\"prediction\", \\\n",
        "                 labelCol=\"SalePrice\",metricName=\"r2\")\n",
        "print(\"R Squared (R2) on val data = %g\" % rf_evaluator.evaluate(rf_predictions))"
      ],
      "execution_count": 44,
      "outputs": [
        {
          "output_type": "stream",
          "name": "stdout",
          "text": [
            "+------------------+---------+--------------------+\n",
            "|        prediction|SalePrice|            features|\n",
            "+------------------+---------+--------------------+\n",
            "| 223648.8958333333|   223500|(62,[0,1,2,3,4,5,...|\n",
            "|156271.66666666666|   143000|(62,[0,1,2,3,4,5,...|\n",
            "|147613.38333333333|   129900|(62,[0,1,2,3,4,5,...|\n",
            "|133883.76666666666|   129500|(62,[0,1,2,3,4,5,...|\n",
            "| 132194.7916666667|   144000|(62,[0,1,2,3,4,5,...|\n",
            "+------------------+---------+--------------------+\n",
            "only showing top 5 rows\n",
            "\n",
            "R Squared (R2) on val data = 0.897294\n"
          ]
        }
      ]
    },
    {
      "cell_type": "code",
      "metadata": {
        "id": "Ja9l9vpIVuge"
      },
      "source": [
        "rf_predictions2 = rf_model.transform(test_vector)\n",
        "#rf_predictions2.printSchema()\n",
        "pred = rf_predictions2.select(\"Id\",\"prediction\")\n",
        "pred = pred.withColumnRenamed(\"prediction\",\"SalePrice\")\n",
        "\n",
        "from pyspark.sql.types import FloatType, IntegerType\n",
        "\n",
        "#pred.printSchema()\n",
        "pred = pred.withColumn(\"Id\", pred[\"Id\"].cast(IntegerType()))\n",
        "pred = pred.withColumn(\"SalePrice\", pred[\"SalePrice\"].cast(FloatType()))"
      ],
      "execution_count": 45,
      "outputs": []
    },
    {
      "cell_type": "code",
      "metadata": {
        "id": "rZtrxx7lX3nV"
      },
      "source": [
        "pred_pd = pred.toPandas()\n",
        "save = pred_pd.to_csv(\"submission.csv\", index=False)\n",
        "save"
      ],
      "execution_count": 46,
      "outputs": []
    },
    {
      "cell_type": "code",
      "metadata": {
        "colab": {
          "base_uri": "https://localhost:8080/",
          "height": 419
        },
        "id": "sUaegH-cX7gx",
        "outputId": "703401e6-4078-4564-862f-a2d502ef1697"
      },
      "source": [
        "pred_pd"
      ],
      "execution_count": 47,
      "outputs": [
        {
          "output_type": "execute_result",
          "data": {
            "text/html": [
              "<div>\n",
              "<style scoped>\n",
              "    .dataframe tbody tr th:only-of-type {\n",
              "        vertical-align: middle;\n",
              "    }\n",
              "\n",
              "    .dataframe tbody tr th {\n",
              "        vertical-align: top;\n",
              "    }\n",
              "\n",
              "    .dataframe thead th {\n",
              "        text-align: right;\n",
              "    }\n",
              "</style>\n",
              "<table border=\"1\" class=\"dataframe\">\n",
              "  <thead>\n",
              "    <tr style=\"text-align: right;\">\n",
              "      <th></th>\n",
              "      <th>Id</th>\n",
              "      <th>SalePrice</th>\n",
              "    </tr>\n",
              "  </thead>\n",
              "  <tbody>\n",
              "    <tr>\n",
              "      <th>0</th>\n",
              "      <td>1461</td>\n",
              "      <td>130446.664062</td>\n",
              "    </tr>\n",
              "    <tr>\n",
              "      <th>1</th>\n",
              "      <td>1462</td>\n",
              "      <td>150505.421875</td>\n",
              "    </tr>\n",
              "    <tr>\n",
              "      <th>2</th>\n",
              "      <td>1463</td>\n",
              "      <td>163978.890625</td>\n",
              "    </tr>\n",
              "    <tr>\n",
              "      <th>3</th>\n",
              "      <td>1464</td>\n",
              "      <td>164414.375000</td>\n",
              "    </tr>\n",
              "    <tr>\n",
              "      <th>4</th>\n",
              "      <td>1465</td>\n",
              "      <td>200519.031250</td>\n",
              "    </tr>\n",
              "    <tr>\n",
              "      <th>...</th>\n",
              "      <td>...</td>\n",
              "      <td>...</td>\n",
              "    </tr>\n",
              "    <tr>\n",
              "      <th>1454</th>\n",
              "      <td>2915</td>\n",
              "      <td>125025.414062</td>\n",
              "    </tr>\n",
              "    <tr>\n",
              "      <th>1455</th>\n",
              "      <td>2916</td>\n",
              "      <td>136794.578125</td>\n",
              "    </tr>\n",
              "    <tr>\n",
              "      <th>1456</th>\n",
              "      <td>2917</td>\n",
              "      <td>162108.812500</td>\n",
              "    </tr>\n",
              "    <tr>\n",
              "      <th>1457</th>\n",
              "      <td>2918</td>\n",
              "      <td>116119.164062</td>\n",
              "    </tr>\n",
              "    <tr>\n",
              "      <th>1458</th>\n",
              "      <td>2919</td>\n",
              "      <td>222977.312500</td>\n",
              "    </tr>\n",
              "  </tbody>\n",
              "</table>\n",
              "<p>1459 rows × 2 columns</p>\n",
              "</div>"
            ],
            "text/plain": [
              "        Id      SalePrice\n",
              "0     1461  130446.664062\n",
              "1     1462  150505.421875\n",
              "2     1463  163978.890625\n",
              "3     1464  164414.375000\n",
              "4     1465  200519.031250\n",
              "...    ...            ...\n",
              "1454  2915  125025.414062\n",
              "1455  2916  136794.578125\n",
              "1456  2917  162108.812500\n",
              "1457  2918  116119.164062\n",
              "1458  2919  222977.312500\n",
              "\n",
              "[1459 rows x 2 columns]"
            ]
          },
          "metadata": {},
          "execution_count": 47
        }
      ]
    }
  ]
}